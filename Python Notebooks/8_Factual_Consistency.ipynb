{
  "nbformat": 4,
  "nbformat_minor": 0,
  "metadata": {
    "colab": {
      "provenance": []
    },
    "kernelspec": {
      "name": "python3",
      "display_name": "Python 3"
    },
    "language_info": {
      "name": "python"
    }
  },
  "cells": [
    {
      "cell_type": "markdown",
      "source": [
        "# Factual Consistency"
      ],
      "metadata": {
        "id": "fbsf__mcmrok"
      }
    },
    {
      "cell_type": "code",
      "execution_count": null,
      "metadata": {
        "colab": {
          "base_uri": "https://localhost:8080/"
        },
        "id": "CCeJlTcJhCme",
        "outputId": "8e9a116d-1bb6-4e0b-cda8-b7711e9ab5bb"
      },
      "outputs": [
        {
          "output_type": "stream",
          "name": "stdout",
          "text": [
            "Mounted at /content/drive\n"
          ]
        }
      ],
      "source": [
        "from google.colab import drive\n",
        "drive.mount('/content/drive')"
      ]
    },
    {
      "cell_type": "code",
      "source": [
        "pip install openai"
      ],
      "metadata": {
        "colab": {
          "base_uri": "https://localhost:8080/"
        },
        "id": "IGeANwifhF17",
        "outputId": "8138443e-6e0f-49eb-b4e8-2251e43ce283",
        "collapsed": true
      },
      "execution_count": null,
      "outputs": [
        {
          "output_type": "stream",
          "name": "stdout",
          "text": [
            "Collecting openai\n",
            "  Downloading openai-1.40.3-py3-none-any.whl.metadata (22 kB)\n",
            "Requirement already satisfied: anyio<5,>=3.5.0 in /usr/local/lib/python3.10/dist-packages (from openai) (3.7.1)\n",
            "Requirement already satisfied: distro<2,>=1.7.0 in /usr/lib/python3/dist-packages (from openai) (1.7.0)\n",
            "Collecting httpx<1,>=0.23.0 (from openai)\n",
            "  Downloading httpx-0.27.0-py3-none-any.whl.metadata (7.2 kB)\n",
            "Collecting jiter<1,>=0.4.0 (from openai)\n",
            "  Downloading jiter-0.5.0-cp310-cp310-manylinux_2_17_x86_64.manylinux2014_x86_64.whl.metadata (3.6 kB)\n",
            "Requirement already satisfied: pydantic<3,>=1.9.0 in /usr/local/lib/python3.10/dist-packages (from openai) (2.8.2)\n",
            "Requirement already satisfied: sniffio in /usr/local/lib/python3.10/dist-packages (from openai) (1.3.1)\n",
            "Requirement already satisfied: tqdm>4 in /usr/local/lib/python3.10/dist-packages (from openai) (4.66.5)\n",
            "Requirement already satisfied: typing-extensions<5,>=4.11 in /usr/local/lib/python3.10/dist-packages (from openai) (4.12.2)\n",
            "Requirement already satisfied: idna>=2.8 in /usr/local/lib/python3.10/dist-packages (from anyio<5,>=3.5.0->openai) (3.7)\n",
            "Requirement already satisfied: exceptiongroup in /usr/local/lib/python3.10/dist-packages (from anyio<5,>=3.5.0->openai) (1.2.2)\n",
            "Requirement already satisfied: certifi in /usr/local/lib/python3.10/dist-packages (from httpx<1,>=0.23.0->openai) (2024.7.4)\n",
            "Collecting httpcore==1.* (from httpx<1,>=0.23.0->openai)\n",
            "  Downloading httpcore-1.0.5-py3-none-any.whl.metadata (20 kB)\n",
            "Collecting h11<0.15,>=0.13 (from httpcore==1.*->httpx<1,>=0.23.0->openai)\n",
            "  Downloading h11-0.14.0-py3-none-any.whl.metadata (8.2 kB)\n",
            "Requirement already satisfied: annotated-types>=0.4.0 in /usr/local/lib/python3.10/dist-packages (from pydantic<3,>=1.9.0->openai) (0.7.0)\n",
            "Requirement already satisfied: pydantic-core==2.20.1 in /usr/local/lib/python3.10/dist-packages (from pydantic<3,>=1.9.0->openai) (2.20.1)\n",
            "Downloading openai-1.40.3-py3-none-any.whl (360 kB)\n",
            "\u001b[2K   \u001b[90m━━━━━━━━━━━━━━━━━━━━━━━━━━━━━━━━━━━━━━━━\u001b[0m \u001b[32m360.7/360.7 kB\u001b[0m \u001b[31m2.8 MB/s\u001b[0m eta \u001b[36m0:00:00\u001b[0m\n",
            "\u001b[?25hDownloading httpx-0.27.0-py3-none-any.whl (75 kB)\n",
            "\u001b[2K   \u001b[90m━━━━━━━━━━━━━━━━━━━━━━━━━━━━━━━━━━━━━━━━\u001b[0m \u001b[32m75.6/75.6 kB\u001b[0m \u001b[31m3.8 MB/s\u001b[0m eta \u001b[36m0:00:00\u001b[0m\n",
            "\u001b[?25hDownloading httpcore-1.0.5-py3-none-any.whl (77 kB)\n",
            "\u001b[2K   \u001b[90m━━━━━━━━━━━━━━━━━━━━━━━━━━━━━━━━━━━━━━━━\u001b[0m \u001b[32m77.9/77.9 kB\u001b[0m \u001b[31m4.9 MB/s\u001b[0m eta \u001b[36m0:00:00\u001b[0m\n",
            "\u001b[?25hDownloading jiter-0.5.0-cp310-cp310-manylinux_2_17_x86_64.manylinux2014_x86_64.whl (318 kB)\n",
            "\u001b[2K   \u001b[90m━━━━━━━━━━━━━━━━━━━━━━━━━━━━━━━━━━━━━━━━\u001b[0m \u001b[32m318.9/318.9 kB\u001b[0m \u001b[31m12.9 MB/s\u001b[0m eta \u001b[36m0:00:00\u001b[0m\n",
            "\u001b[?25hDownloading h11-0.14.0-py3-none-any.whl (58 kB)\n",
            "\u001b[2K   \u001b[90m━━━━━━━━━━━━━━━━━━━━━━━━━━━━━━━━━━━━━━━━\u001b[0m \u001b[32m58.3/58.3 kB\u001b[0m \u001b[31m2.7 MB/s\u001b[0m eta \u001b[36m0:00:00\u001b[0m\n",
            "\u001b[?25hInstalling collected packages: jiter, h11, httpcore, httpx, openai\n",
            "Successfully installed h11-0.14.0 httpcore-1.0.5 httpx-0.27.0 jiter-0.5.0 openai-1.40.3\n"
          ]
        }
      ]
    },
    {
      "cell_type": "code",
      "source": [
        "import pandas as pd\n",
        "from openai import OpenAI"
      ],
      "metadata": {
        "id": "xsiE1R0AhWMW"
      },
      "execution_count": null,
      "outputs": []
    },
    {
      "cell_type": "code",
      "source": [
        "test_df=pd.read_csv('/content/drive/MyDrive/DISSERTATION/Dataset/Extracted Dataset (csv)/test_plos.csv')"
      ],
      "metadata": {
        "id": "6XuAymnQOx6P"
      },
      "execution_count": null,
      "outputs": []
    },
    {
      "cell_type": "markdown",
      "source": [
        "## Pegasus"
      ],
      "metadata": {
        "id": "jz6JlNSfP7oP"
      }
    },
    {
      "cell_type": "code",
      "source": [
        "peg_df=pd.read_csv('/content/drive/MyDrive/DISSERTATION/Dataset/test_peg_v4.csv')"
      ],
      "metadata": {
        "id": "iAPxYRhVP7N4"
      },
      "execution_count": null,
      "outputs": []
    },
    {
      "cell_type": "code",
      "source": [
        "#Replacing the abstact without stopwords to the original abstract for evaluation\n",
        "peg_df = peg_df.drop(columns=[\"abstract\"])\n",
        "peg_df[\"abstract\"] = test_df[\"abstract\"]"
      ],
      "metadata": {
        "id": "t6-dGyByPWqr"
      },
      "execution_count": null,
      "outputs": []
    },
    {
      "cell_type": "markdown",
      "source": [
        "### Summary Ranking"
      ],
      "metadata": {
        "id": "_hlchNkjmotm"
      }
    },
    {
      "cell_type": "code",
      "source": [
        "df=peg_df.copy()"
      ],
      "metadata": {
        "id": "mwX5s0-DPwOx"
      },
      "execution_count": null,
      "outputs": []
    },
    {
      "cell_type": "code",
      "source": [
        "#Summary Ranking Prompt\n",
        "df['Message']=\"Decide which of the following summary is more consistent with the article. Note that consistency means all information in the summary is supported by the article.\\nArticle: \"+df['abstract']+\"\\nSummary A: \"+df['plain language summary']+\"\\nSummary B: \"+df['generated_summary']+\"\\nExplain your reasoning step by step then answer (A or B) the question: \""
      ],
      "metadata": {
        "id": "fC75sdJbQOW8"
      },
      "execution_count": null,
      "outputs": []
    },
    {
      "cell_type": "code",
      "source": [
        "#API Key\n",
        "client = OpenAI(api_key=\"PASTE YOUR API KEY HERE\")"
      ],
      "metadata": {
        "id": "uoxz96ryiAaX"
      },
      "execution_count": null,
      "outputs": []
    },
    {
      "cell_type": "code",
      "source": [
        "#GPT response generation\n",
        "def get_response(message):\n",
        "    stream = client.chat.completions.create(\n",
        "        model=\"gpt-4o-mini\",\n",
        "        messages=[{\"role\": \"user\", \"content\": message}],\n",
        "        stream=True,\n",
        "    )\n",
        "    response_content = \"\"\n",
        "    for chunk in stream:\n",
        "        if chunk.choices[0].delta.content is not None:\n",
        "            response_content += chunk.choices[0].delta.content\n",
        "    return response_content"
      ],
      "metadata": {
        "id": "GkS0B9mli_lS"
      },
      "execution_count": null,
      "outputs": []
    },
    {
      "cell_type": "code",
      "source": [
        "df[\"Response\"]=df[\"Message\"].apply(get_response)"
      ],
      "metadata": {
        "id": "cXAuKFJLnjXV"
      },
      "execution_count": null,
      "outputs": []
    },
    {
      "cell_type": "code",
      "source": [
        "df.to_csv('/content/drive/MyDrive/DISSERTATION/Results/Factual Consistency/peg_v4_summaryRanking.csv', index=False)"
      ],
      "metadata": {
        "id": "rTv1wZ1lovU2"
      },
      "execution_count": null,
      "outputs": []
    },
    {
      "cell_type": "markdown",
      "source": [
        "### Consistency Rating"
      ],
      "metadata": {
        "id": "Bg1x_LWCmyFw"
      }
    },
    {
      "cell_type": "code",
      "source": [
        "df_copy=peg_df.copy()"
      ],
      "metadata": {
        "id": "8F2zJf9kv2tb"
      },
      "execution_count": null,
      "outputs": []
    },
    {
      "cell_type": "code",
      "source": [
        "#Consistency Rating Prompt\n",
        "df_copy['Message']=\"Score the following summary given the corresponding article with respect to consistency from 1 to 10. Note that consistency measures how much information included in the summary is present in the source article. 10 points indicate the summary contains only statements that are entailed by the source document.\\nSummary: \" + df_copy[\"generated_summary\"] + \"\\nSource Article: \" + df_copy[\"abstract\"] + \"\\nMarks: \""
      ],
      "metadata": {
        "id": "4EksOoPjv2th"
      },
      "execution_count": null,
      "outputs": []
    },
    {
      "cell_type": "code",
      "source": [
        "print(df_copy['Message'][0])"
      ],
      "metadata": {
        "colab": {
          "base_uri": "https://localhost:8080/"
        },
        "outputId": "d06b18e6-cf97-49b8-ff5d-3cb0dc088538",
        "id": "hl6lhWjJv2th"
      },
      "execution_count": null,
      "outputs": [
        {
          "output_type": "stream",
          "name": "stdout",
          "text": [
            "Score the following summary given the corresponding article with respect to consistency from 1 to 10. Note that consistency measures how much information included in the summary is present in the source article. 10 points indicate the summary contains only statements that are entailed by the source document.\n",
            "Summary: Epigenetics is the study of changes in gene expression that occur during the initiation and progression of cancer. However, it is not well understood how epigenetic changes occur in the early stages of cancer development. Here, we show that a large set of differentially methylated regions (DMRs) are present in the intestinal adenoma of a mouse model of colon cancer. These DMRs are highly enriched in DNA methyltransferases-regulated adenoma cells. We also show that these DMRs are frequently found in colon cancer, rare in adenoma. These data allow the distinction between early and late epigenetic alterations occurring in intestinal adenoma, and facilitate selection of specific clinical epigenetic biomarkers.\n",
            "Source Article: Aberrant CpG methylation is a universal epigenetic trait of cancer cell genomes. However, human cancer samples or cell lines preclude the investigation of epigenetic changes occurring early during tumour development. Here, we have used MeDIP-seq to analyse the DNA methylome of APCMin adenoma as a model for intestinal cancer initiation, and we present a list of more than 13,000 recurring differentially methylated regions (DMRs) characterizing intestinal adenoma of the mouse. We show that Polycomb Repressive Complex (PRC) targets are strongly enriched among hypermethylated DMRs, and several PRC2 components and DNA methyltransferases were up-regulated in adenoma. We further demonstrate by bisulfite pyrosequencing of purified cell populations that the DMR signature arises de novo in adenoma cells rather than by expansion of a pre-existing pattern in intestinal stem cells or undifferentiated crypt cells. We found that epigenetic silencing of tumour suppressors, which occurs frequently in colon cancer, was rare in adenoma. Quite strikingly, we identified a core set of DMRs, which is conserved between mouse adenoma and human colon cancer, thus possibly revealing a global panel of epigenetically modified genes for intestinal tumours. Our data allow a distinction between early conserved epigenetic alterations occurring in intestinal adenoma and late stochastic events promoting colon cancer progression, and may facilitate the selection of more specific clinical epigenetic biomarkers.\n",
            "\n",
            "Marks: \n"
          ]
        }
      ]
    },
    {
      "cell_type": "code",
      "source": [
        "#API Key\n",
        "client = OpenAI(api_key=\"PASTE YOUR API KEY HERE\")"
      ],
      "metadata": {
        "id": "SsWRV_6wv2th"
      },
      "execution_count": null,
      "outputs": []
    },
    {
      "cell_type": "code",
      "source": [
        "#GPT response generation\n",
        "def get_response(message):\n",
        "    stream = client.chat.completions.create(\n",
        "        model=\"gpt-4o-mini\",\n",
        "        messages=[{\"role\": \"user\", \"content\": message}],\n",
        "        stream=True,\n",
        "    )\n",
        "    response_content = \"\"\n",
        "    for chunk in stream:\n",
        "        if chunk.choices[0].delta.content is not None:\n",
        "            response_content += chunk.choices[0].delta.content\n",
        "    return response_content"
      ],
      "metadata": {
        "id": "F0pgbK9tv2ti"
      },
      "execution_count": null,
      "outputs": []
    },
    {
      "cell_type": "code",
      "source": [
        "df_copy[\"Response\"]=df_copy[\"Message\"].apply(get_response)"
      ],
      "metadata": {
        "id": "afFKxJxOv2ti"
      },
      "execution_count": null,
      "outputs": []
    },
    {
      "cell_type": "code",
      "source": [
        "df_copy.to_csv('/content/drive/MyDrive/DISSERTATION/Results/Factual Consistency/peg_v4_consistencyRating2.csv', index=False)"
      ],
      "metadata": {
        "id": "XyytSs9Nv2ti"
      },
      "execution_count": null,
      "outputs": []
    },
    {
      "cell_type": "markdown",
      "source": [
        "## BART"
      ],
      "metadata": {
        "id": "LAwBAtJ5HbkU"
      }
    },
    {
      "cell_type": "code",
      "source": [
        "bart_df=pd.read_csv('/content/drive/MyDrive/DISSERTATION/Dataset/test_bart_v2.csv')"
      ],
      "metadata": {
        "id": "vDovY4ByH0sn"
      },
      "execution_count": null,
      "outputs": []
    },
    {
      "cell_type": "code",
      "source": [
        "bart_df = bart_df.drop(columns=[\"abstract\"])\n",
        "bart_df[\"abstract\"] = test_df[\"abstract\"]"
      ],
      "metadata": {
        "id": "9aYjMm0CHK54"
      },
      "execution_count": null,
      "outputs": []
    },
    {
      "cell_type": "markdown",
      "source": [
        "### Summary Ranking"
      ],
      "metadata": {
        "id": "LKRsJzW_ogOQ"
      }
    },
    {
      "cell_type": "code",
      "source": [
        "bart_df"
      ],
      "metadata": {
        "colab": {
          "base_uri": "https://localhost:8080/",
          "height": 423
        },
        "id": "vEnj8Y0MICRI",
        "outputId": "85142e9b-1e03-4e8d-eee6-ff6dc60928a0"
      },
      "execution_count": null,
      "outputs": [
        {
          "output_type": "execute_result",
          "data": {
            "text/plain": [
              "                                plain language summary  \\\n",
              "0    The formation and progression of tumours to me...   \n",
              "1    Chagas disease remains a major public health p...   \n",
              "2    The work described here fills a current gap in...   \n",
              "3    Vaccines are considered a cost-effective way t...   \n",
              "4    Cells sense their surroundings and respond to ...   \n",
              "..                                                 ...   \n",
              "995  The demographic history of our species is refl...   \n",
              "996  Hair plays an important role in primates and i...   \n",
              "997  The human whipworm Trichuris trichiura is toge...   \n",
              "998  Clinical management of upper and lower respira...   \n",
              "999  The need for the construction of a dengue onto...   \n",
              "\n",
              "                                     generated_summary  \\\n",
              "0    Aberrant CpG methylation is a universal epigen...   \n",
              "1    Trypanosoma cruzi strains are currently classi...   \n",
              "2    DNA polymerase ν (Pol ν) is a family of DNA po...   \n",
              "3    Dengue virus is a mosquito-transmitted virus t...   \n",
              "4    Cells reliably sense environmental changes des...   \n",
              "..                                                 ...   \n",
              "995  Genetic models built from genetic data play im...   \n",
              "996  Hair plays an important role in primates and i...   \n",
              "997  Trichuris trichiura infections are the most co...   \n",
              "998  In order to suppress microbial outgrowth, the ...   \n",
              "999  Dengue fever is one of the most important vect...   \n",
              "\n",
              "                                              abstract  \n",
              "0    Aberrant CpG methylation is a universal epigen...  \n",
              "1    Trypanosoma cruzi strains are currently classi...  \n",
              "2    DNA polymerase ν (pol ν), encoded by the POLN ...  \n",
              "3    Dengue virus is a mosquito-transmitted virus t...  \n",
              "4    Cells reliably sense environmental changes des...  \n",
              "..                                                 ...  \n",
              "995  Demographic models built from genetic data pla...  \n",
              "996  Hair plays an important role in primates and i...  \n",
              "997  The single-dose benzimidazoles used against Tr...  \n",
              "998  In an effort to suppress microbial outgrowth, ...  \n",
              "999  Ontologies represent powerful tools in informa...  \n",
              "\n",
              "[1000 rows x 3 columns]"
            ],
            "text/html": [
              "\n",
              "  <div id=\"df-9d5a66d9-99f0-4733-a729-28b5e4c1cc43\" class=\"colab-df-container\">\n",
              "    <div>\n",
              "<style scoped>\n",
              "    .dataframe tbody tr th:only-of-type {\n",
              "        vertical-align: middle;\n",
              "    }\n",
              "\n",
              "    .dataframe tbody tr th {\n",
              "        vertical-align: top;\n",
              "    }\n",
              "\n",
              "    .dataframe thead th {\n",
              "        text-align: right;\n",
              "    }\n",
              "</style>\n",
              "<table border=\"1\" class=\"dataframe\">\n",
              "  <thead>\n",
              "    <tr style=\"text-align: right;\">\n",
              "      <th></th>\n",
              "      <th>plain language summary</th>\n",
              "      <th>generated_summary</th>\n",
              "      <th>abstract</th>\n",
              "    </tr>\n",
              "  </thead>\n",
              "  <tbody>\n",
              "    <tr>\n",
              "      <th>0</th>\n",
              "      <td>The formation and progression of tumours to me...</td>\n",
              "      <td>Aberrant CpG methylation is a universal epigen...</td>\n",
              "      <td>Aberrant CpG methylation is a universal epigen...</td>\n",
              "    </tr>\n",
              "    <tr>\n",
              "      <th>1</th>\n",
              "      <td>Chagas disease remains a major public health p...</td>\n",
              "      <td>Trypanosoma cruzi strains are currently classi...</td>\n",
              "      <td>Trypanosoma cruzi strains are currently classi...</td>\n",
              "    </tr>\n",
              "    <tr>\n",
              "      <th>2</th>\n",
              "      <td>The work described here fills a current gap in...</td>\n",
              "      <td>DNA polymerase ν (Pol ν) is a family of DNA po...</td>\n",
              "      <td>DNA polymerase ν (pol ν), encoded by the POLN ...</td>\n",
              "    </tr>\n",
              "    <tr>\n",
              "      <th>3</th>\n",
              "      <td>Vaccines are considered a cost-effective way t...</td>\n",
              "      <td>Dengue virus is a mosquito-transmitted virus t...</td>\n",
              "      <td>Dengue virus is a mosquito-transmitted virus t...</td>\n",
              "    </tr>\n",
              "    <tr>\n",
              "      <th>4</th>\n",
              "      <td>Cells sense their surroundings and respond to ...</td>\n",
              "      <td>Cells reliably sense environmental changes des...</td>\n",
              "      <td>Cells reliably sense environmental changes des...</td>\n",
              "    </tr>\n",
              "    <tr>\n",
              "      <th>...</th>\n",
              "      <td>...</td>\n",
              "      <td>...</td>\n",
              "      <td>...</td>\n",
              "    </tr>\n",
              "    <tr>\n",
              "      <th>995</th>\n",
              "      <td>The demographic history of our species is refl...</td>\n",
              "      <td>Genetic models built from genetic data play im...</td>\n",
              "      <td>Demographic models built from genetic data pla...</td>\n",
              "    </tr>\n",
              "    <tr>\n",
              "      <th>996</th>\n",
              "      <td>Hair plays an important role in primates and i...</td>\n",
              "      <td>Hair plays an important role in primates and i...</td>\n",
              "      <td>Hair plays an important role in primates and i...</td>\n",
              "    </tr>\n",
              "    <tr>\n",
              "      <th>997</th>\n",
              "      <td>The human whipworm Trichuris trichiura is toge...</td>\n",
              "      <td>Trichuris trichiura infections are the most co...</td>\n",
              "      <td>The single-dose benzimidazoles used against Tr...</td>\n",
              "    </tr>\n",
              "    <tr>\n",
              "      <th>998</th>\n",
              "      <td>Clinical management of upper and lower respira...</td>\n",
              "      <td>In order to suppress microbial outgrowth, the ...</td>\n",
              "      <td>In an effort to suppress microbial outgrowth, ...</td>\n",
              "    </tr>\n",
              "    <tr>\n",
              "      <th>999</th>\n",
              "      <td>The need for the construction of a dengue onto...</td>\n",
              "      <td>Dengue fever is one of the most important vect...</td>\n",
              "      <td>Ontologies represent powerful tools in informa...</td>\n",
              "    </tr>\n",
              "  </tbody>\n",
              "</table>\n",
              "<p>1000 rows × 3 columns</p>\n",
              "</div>\n",
              "    <div class=\"colab-df-buttons\">\n",
              "\n",
              "  <div class=\"colab-df-container\">\n",
              "    <button class=\"colab-df-convert\" onclick=\"convertToInteractive('df-9d5a66d9-99f0-4733-a729-28b5e4c1cc43')\"\n",
              "            title=\"Convert this dataframe to an interactive table.\"\n",
              "            style=\"display:none;\">\n",
              "\n",
              "  <svg xmlns=\"http://www.w3.org/2000/svg\" height=\"24px\" viewBox=\"0 -960 960 960\">\n",
              "    <path d=\"M120-120v-720h720v720H120Zm60-500h600v-160H180v160Zm220 220h160v-160H400v160Zm0 220h160v-160H400v160ZM180-400h160v-160H180v160Zm440 0h160v-160H620v160ZM180-180h160v-160H180v160Zm440 0h160v-160H620v160Z\"/>\n",
              "  </svg>\n",
              "    </button>\n",
              "\n",
              "  <style>\n",
              "    .colab-df-container {\n",
              "      display:flex;\n",
              "      gap: 12px;\n",
              "    }\n",
              "\n",
              "    .colab-df-convert {\n",
              "      background-color: #E8F0FE;\n",
              "      border: none;\n",
              "      border-radius: 50%;\n",
              "      cursor: pointer;\n",
              "      display: none;\n",
              "      fill: #1967D2;\n",
              "      height: 32px;\n",
              "      padding: 0 0 0 0;\n",
              "      width: 32px;\n",
              "    }\n",
              "\n",
              "    .colab-df-convert:hover {\n",
              "      background-color: #E2EBFA;\n",
              "      box-shadow: 0px 1px 2px rgba(60, 64, 67, 0.3), 0px 1px 3px 1px rgba(60, 64, 67, 0.15);\n",
              "      fill: #174EA6;\n",
              "    }\n",
              "\n",
              "    .colab-df-buttons div {\n",
              "      margin-bottom: 4px;\n",
              "    }\n",
              "\n",
              "    [theme=dark] .colab-df-convert {\n",
              "      background-color: #3B4455;\n",
              "      fill: #D2E3FC;\n",
              "    }\n",
              "\n",
              "    [theme=dark] .colab-df-convert:hover {\n",
              "      background-color: #434B5C;\n",
              "      box-shadow: 0px 1px 3px 1px rgba(0, 0, 0, 0.15);\n",
              "      filter: drop-shadow(0px 1px 2px rgba(0, 0, 0, 0.3));\n",
              "      fill: #FFFFFF;\n",
              "    }\n",
              "  </style>\n",
              "\n",
              "    <script>\n",
              "      const buttonEl =\n",
              "        document.querySelector('#df-9d5a66d9-99f0-4733-a729-28b5e4c1cc43 button.colab-df-convert');\n",
              "      buttonEl.style.display =\n",
              "        google.colab.kernel.accessAllowed ? 'block' : 'none';\n",
              "\n",
              "      async function convertToInteractive(key) {\n",
              "        const element = document.querySelector('#df-9d5a66d9-99f0-4733-a729-28b5e4c1cc43');\n",
              "        const dataTable =\n",
              "          await google.colab.kernel.invokeFunction('convertToInteractive',\n",
              "                                                    [key], {});\n",
              "        if (!dataTable) return;\n",
              "\n",
              "        const docLinkHtml = 'Like what you see? Visit the ' +\n",
              "          '<a target=\"_blank\" href=https://colab.research.google.com/notebooks/data_table.ipynb>data table notebook</a>'\n",
              "          + ' to learn more about interactive tables.';\n",
              "        element.innerHTML = '';\n",
              "        dataTable['output_type'] = 'display_data';\n",
              "        await google.colab.output.renderOutput(dataTable, element);\n",
              "        const docLink = document.createElement('div');\n",
              "        docLink.innerHTML = docLinkHtml;\n",
              "        element.appendChild(docLink);\n",
              "      }\n",
              "    </script>\n",
              "  </div>\n",
              "\n",
              "\n",
              "<div id=\"df-97f4efde-d6d7-4c83-ae07-200ac5dcb3d0\">\n",
              "  <button class=\"colab-df-quickchart\" onclick=\"quickchart('df-97f4efde-d6d7-4c83-ae07-200ac5dcb3d0')\"\n",
              "            title=\"Suggest charts\"\n",
              "            style=\"display:none;\">\n",
              "\n",
              "<svg xmlns=\"http://www.w3.org/2000/svg\" height=\"24px\"viewBox=\"0 0 24 24\"\n",
              "     width=\"24px\">\n",
              "    <g>\n",
              "        <path d=\"M19 3H5c-1.1 0-2 .9-2 2v14c0 1.1.9 2 2 2h14c1.1 0 2-.9 2-2V5c0-1.1-.9-2-2-2zM9 17H7v-7h2v7zm4 0h-2V7h2v10zm4 0h-2v-4h2v4z\"/>\n",
              "    </g>\n",
              "</svg>\n",
              "  </button>\n",
              "\n",
              "<style>\n",
              "  .colab-df-quickchart {\n",
              "      --bg-color: #E8F0FE;\n",
              "      --fill-color: #1967D2;\n",
              "      --hover-bg-color: #E2EBFA;\n",
              "      --hover-fill-color: #174EA6;\n",
              "      --disabled-fill-color: #AAA;\n",
              "      --disabled-bg-color: #DDD;\n",
              "  }\n",
              "\n",
              "  [theme=dark] .colab-df-quickchart {\n",
              "      --bg-color: #3B4455;\n",
              "      --fill-color: #D2E3FC;\n",
              "      --hover-bg-color: #434B5C;\n",
              "      --hover-fill-color: #FFFFFF;\n",
              "      --disabled-bg-color: #3B4455;\n",
              "      --disabled-fill-color: #666;\n",
              "  }\n",
              "\n",
              "  .colab-df-quickchart {\n",
              "    background-color: var(--bg-color);\n",
              "    border: none;\n",
              "    border-radius: 50%;\n",
              "    cursor: pointer;\n",
              "    display: none;\n",
              "    fill: var(--fill-color);\n",
              "    height: 32px;\n",
              "    padding: 0;\n",
              "    width: 32px;\n",
              "  }\n",
              "\n",
              "  .colab-df-quickchart:hover {\n",
              "    background-color: var(--hover-bg-color);\n",
              "    box-shadow: 0 1px 2px rgba(60, 64, 67, 0.3), 0 1px 3px 1px rgba(60, 64, 67, 0.15);\n",
              "    fill: var(--button-hover-fill-color);\n",
              "  }\n",
              "\n",
              "  .colab-df-quickchart-complete:disabled,\n",
              "  .colab-df-quickchart-complete:disabled:hover {\n",
              "    background-color: var(--disabled-bg-color);\n",
              "    fill: var(--disabled-fill-color);\n",
              "    box-shadow: none;\n",
              "  }\n",
              "\n",
              "  .colab-df-spinner {\n",
              "    border: 2px solid var(--fill-color);\n",
              "    border-color: transparent;\n",
              "    border-bottom-color: var(--fill-color);\n",
              "    animation:\n",
              "      spin 1s steps(1) infinite;\n",
              "  }\n",
              "\n",
              "  @keyframes spin {\n",
              "    0% {\n",
              "      border-color: transparent;\n",
              "      border-bottom-color: var(--fill-color);\n",
              "      border-left-color: var(--fill-color);\n",
              "    }\n",
              "    20% {\n",
              "      border-color: transparent;\n",
              "      border-left-color: var(--fill-color);\n",
              "      border-top-color: var(--fill-color);\n",
              "    }\n",
              "    30% {\n",
              "      border-color: transparent;\n",
              "      border-left-color: var(--fill-color);\n",
              "      border-top-color: var(--fill-color);\n",
              "      border-right-color: var(--fill-color);\n",
              "    }\n",
              "    40% {\n",
              "      border-color: transparent;\n",
              "      border-right-color: var(--fill-color);\n",
              "      border-top-color: var(--fill-color);\n",
              "    }\n",
              "    60% {\n",
              "      border-color: transparent;\n",
              "      border-right-color: var(--fill-color);\n",
              "    }\n",
              "    80% {\n",
              "      border-color: transparent;\n",
              "      border-right-color: var(--fill-color);\n",
              "      border-bottom-color: var(--fill-color);\n",
              "    }\n",
              "    90% {\n",
              "      border-color: transparent;\n",
              "      border-bottom-color: var(--fill-color);\n",
              "    }\n",
              "  }\n",
              "</style>\n",
              "\n",
              "  <script>\n",
              "    async function quickchart(key) {\n",
              "      const quickchartButtonEl =\n",
              "        document.querySelector('#' + key + ' button');\n",
              "      quickchartButtonEl.disabled = true;  // To prevent multiple clicks.\n",
              "      quickchartButtonEl.classList.add('colab-df-spinner');\n",
              "      try {\n",
              "        const charts = await google.colab.kernel.invokeFunction(\n",
              "            'suggestCharts', [key], {});\n",
              "      } catch (error) {\n",
              "        console.error('Error during call to suggestCharts:', error);\n",
              "      }\n",
              "      quickchartButtonEl.classList.remove('colab-df-spinner');\n",
              "      quickchartButtonEl.classList.add('colab-df-quickchart-complete');\n",
              "    }\n",
              "    (() => {\n",
              "      let quickchartButtonEl =\n",
              "        document.querySelector('#df-97f4efde-d6d7-4c83-ae07-200ac5dcb3d0 button');\n",
              "      quickchartButtonEl.style.display =\n",
              "        google.colab.kernel.accessAllowed ? 'block' : 'none';\n",
              "    })();\n",
              "  </script>\n",
              "</div>\n",
              "\n",
              "  <div id=\"id_5f28f906-5f59-4a96-967b-67c14dc4bb00\">\n",
              "    <style>\n",
              "      .colab-df-generate {\n",
              "        background-color: #E8F0FE;\n",
              "        border: none;\n",
              "        border-radius: 50%;\n",
              "        cursor: pointer;\n",
              "        display: none;\n",
              "        fill: #1967D2;\n",
              "        height: 32px;\n",
              "        padding: 0 0 0 0;\n",
              "        width: 32px;\n",
              "      }\n",
              "\n",
              "      .colab-df-generate:hover {\n",
              "        background-color: #E2EBFA;\n",
              "        box-shadow: 0px 1px 2px rgba(60, 64, 67, 0.3), 0px 1px 3px 1px rgba(60, 64, 67, 0.15);\n",
              "        fill: #174EA6;\n",
              "      }\n",
              "\n",
              "      [theme=dark] .colab-df-generate {\n",
              "        background-color: #3B4455;\n",
              "        fill: #D2E3FC;\n",
              "      }\n",
              "\n",
              "      [theme=dark] .colab-df-generate:hover {\n",
              "        background-color: #434B5C;\n",
              "        box-shadow: 0px 1px 3px 1px rgba(0, 0, 0, 0.15);\n",
              "        filter: drop-shadow(0px 1px 2px rgba(0, 0, 0, 0.3));\n",
              "        fill: #FFFFFF;\n",
              "      }\n",
              "    </style>\n",
              "    <button class=\"colab-df-generate\" onclick=\"generateWithVariable('bart_df')\"\n",
              "            title=\"Generate code using this dataframe.\"\n",
              "            style=\"display:none;\">\n",
              "\n",
              "  <svg xmlns=\"http://www.w3.org/2000/svg\" height=\"24px\"viewBox=\"0 0 24 24\"\n",
              "       width=\"24px\">\n",
              "    <path d=\"M7,19H8.4L18.45,9,17,7.55,7,17.6ZM5,21V16.75L18.45,3.32a2,2,0,0,1,2.83,0l1.4,1.43a1.91,1.91,0,0,1,.58,1.4,1.91,1.91,0,0,1-.58,1.4L9.25,21ZM18.45,9,17,7.55Zm-12,3A5.31,5.31,0,0,0,4.9,8.1,5.31,5.31,0,0,0,1,6.5,5.31,5.31,0,0,0,4.9,4.9,5.31,5.31,0,0,0,6.5,1,5.31,5.31,0,0,0,8.1,4.9,5.31,5.31,0,0,0,12,6.5,5.46,5.46,0,0,0,6.5,12Z\"/>\n",
              "  </svg>\n",
              "    </button>\n",
              "    <script>\n",
              "      (() => {\n",
              "      const buttonEl =\n",
              "        document.querySelector('#id_5f28f906-5f59-4a96-967b-67c14dc4bb00 button.colab-df-generate');\n",
              "      buttonEl.style.display =\n",
              "        google.colab.kernel.accessAllowed ? 'block' : 'none';\n",
              "\n",
              "      buttonEl.onclick = () => {\n",
              "        google.colab.notebook.generateWithVariable('bart_df');\n",
              "      }\n",
              "      })();\n",
              "    </script>\n",
              "  </div>\n",
              "\n",
              "    </div>\n",
              "  </div>\n"
            ],
            "application/vnd.google.colaboratory.intrinsic+json": {
              "type": "dataframe",
              "variable_name": "bart_df",
              "summary": "{\n  \"name\": \"bart_df\",\n  \"rows\": 1000,\n  \"fields\": [\n    {\n      \"column\": \"plain language summary\",\n      \"properties\": {\n        \"dtype\": \"string\",\n        \"num_unique_values\": 1000,\n        \"samples\": [\n          \"The henipaviruses Hendra and Nipah are bat-borne paramyxoviruses that are highly pathogenic in humans. Until recently the constraints of working at biosafety level 4 had hindered the large scale study of host factors associated with henipavirus infection. MicroRNAs are a class of single-stranded non-coding RNAs that regulate biological processes in eukaryotes. An emerging body of evidence suggests that host microRNAs may favour infection of vertebrate RNA viruses. We have performed high-throughput agonist and antagonist screens at biosafety level 4 to identify host-encoded microRNAs impacting henipavirus infection in human cells. Members of the miR-181 and miR-17~93 families strongly promoted Hendra virus infection and appear to suppress multiple antiviral host molecules. Infection promotion is primarily mediated via the ability of miR-181 to repress Eph receptors that negatively regulate henipavirus glycoprotein-mediated cell-cell fusion. This study is the first large-scale screen of host-encoded microRNAs influencing infection by a clinically significant mononegavirus, and of a BSL-4 virus, and supports the emerging notion that host miRNAs can play a role in supporting infection of RNA viruses.\",\n          \"Vector-borne diseases represent a severe burden to both human and animal health worldwide. The methods currently being used to control a range of these diseases do not appear sufficient to address the issues at hand. As such, alternate methods for the control of vector-borne diseases are currently being investigated. Among the promising techniques currently being considered are a range of genetic control methods known as gene drive systems. These allow desirable genetic traits (such as a much reduced capacity for vectors to transmit viruses) to be spread through a target population; taking advantage of natural mate seeking behaviour to locate vector sub-populations that can be extremely difficult for humans to locate and reach. Here we use mathematical models (parameterised to consider mosquito populations) to demonstrate the robustness of the engineered underdominance and killer-rescue classes of gene drive to different ecological factors including birth and death rates; the number and quality of breeding sites (i.e. carrying capacity); and the strength of density-dependent competition during the larval development phase. We then go on to explore the range of potential outcomes that may result from the migration of individuals between two neighbouring populations.\",\n          \"HIV infection is characterized by a decrease of CD4+ T-lymphocytes in the blood. Whereas antiretroviral treatment succeeds to control viral replication, some patients fail to reconstitute their CD4+ T cell count to normal value. IL-7 is a promising cytokine under evaluation for its use in HIV infection, in supplement to antiretroviral therapy, as it increases cell proliferation and survival. Here, we use data from three clinical trials testing the effect of IL-7 on CD4+ T-cell recovery in treated HIV-infected individuals and use a simple mathematical model to quantify IL-7 effects by estimating the biological parameters of the model. We show that the increase of peripheral proliferation could not explain alone the long-term dynamics of T cells after IL-7 injections underlining other important effects such as the improvement of cell survival. We also investigate the feasibility and the efficiency of repetitions of IL-7 cycles and argue for further evaluation through clinical trials.\"\n        ],\n        \"semantic_type\": \"\",\n        \"description\": \"\"\n      }\n    },\n    {\n      \"column\": \"generated_summary\",\n      \"properties\": {\n        \"dtype\": \"string\",\n        \"num_unique_values\": 1000,\n        \"samples\": [\n          \"Hendra Nipah viruses (family Paramyxoviridae, genus Henipavirus) are bat-borne viruses that cause fatal disease in humans and a range of mammalian species. Gaining deeper understanding of the host pathways exploited by henipaviruses infection will identify targets for new anti-viral therapies. We performed a genome-wide high-throughput agonist antagonist screen at biosafety level 4 to identify host-encoded microRNAs (miRNAs) that are important for infection and infection in human cells. Members of the miR-181 family strongly promoted Hendra virus infection, but did not affect infection with paramyxoviruses and other genera, indicating the specificity of virus-host interaction. Infection promotion was primarily mediated by the ability of miRs-181 to significantly enhance henipovirus-induced membrane fusion. Cell signalling receptors for ephrins, EphA5 and EphB4, were identified as novel negative regulators of henipvirus fusion, suggesting that simultaneous inhibition of Ephs and miRNA contributes to enhanced infection and fusion. Immune-responsive miRNA levels were also regulated in biofluids of ferrets and horses infected with Hendra viruses, suggesting a host innate immune response that may promote henipivirus spread and exacerbate disease severity. Our study provides the first comprehensive screen of miRNAs influencing infection in a clinically significant mononegavirus.\",\n          \"The Aedes aegypti mosquito locus is a mosquito-vector that is genetically engineered to increase the frequency of the population, spreading associated with desirable genetic traits. In the case of engineered underdominance, introduced transgenes are theoretically capable of persisting indefinitely (i.e. self-sustaining) whilst the killer-rescue system rescue component initially increase frequency (lethal component (killer) is more common) and eventually declining (killer rare) when it is eliminated. The effects of ecological factors on gene drive systems are considered alternative modelling methodologies. We formulate a new set of mathematical models combining population dynamics and population genetics classes of gene drive to incorporate ecological factors previously studied simple to allow the effects to be disentangled. In particular, we focus on potential effects obtained from the result of differing ecological factors such as strengths of larval competition; numbers of breeding sites; relative fitness of transgenic mosquitoes compared to their wild-type counterparts. We extend models to consider population dynamics demes in order to explore the effects of dispersal of neighbouring populations on the outcome of the UD KR gene drive system.\",\n          \"Exogenous Interleukin-7 (IL-7), a supplement to antiretroviral therapy, leads to a substantial increase in CD4+ T cell subsets in HIV-1 infected patients. However, the quantitative contribution of the potential mechanisms of action of IL-7 is unknown. We performed mathematical analysis of repeated measurements of total naive CD4 + T cells and Ki67 expression in infected patients involved in phase/II studies (N\\u200a =\\u200a 53 patients). We found that IL+7 exerts additional effects on CD4 and T cell dynamics at 52 weeks. A decrease in the loss rate of total CD4/T cell counts is a probable explanation for the effect maintained after repeated administration with IL-8. Our simulation study shows a strategy to allow maintaining CD4 or T cell counts 500 cells/\\u00b5L for 4 cycles in fewer period of years.\"\n        ],\n        \"semantic_type\": \"\",\n        \"description\": \"\"\n      }\n    },\n    {\n      \"column\": \"abstract\",\n      \"properties\": {\n        \"dtype\": \"string\",\n        \"num_unique_values\": 1000,\n        \"samples\": [\n          \"Hendra and Nipah viruses (family Paramyxoviridae, genus Henipavirus) are bat-borne viruses that cause fatal disease in humans and a range of other mammalian species. Gaining a deeper understanding of host pathways exploited by henipaviruses for infection may identify targets for new anti-viral therapies. Here we have performed genome-wide high-throughput agonist and antagonist screens at biosafety level 4 to identify host-encoded microRNAs (miRNAs) impacting henipavirus infection in human cells. Members of the miR-181 and miR-17~93 families strongly promoted Hendra virus infection. miR-181 also promoted Nipah virus infection, but did not affect infection by paramyxoviruses from other genera, indicating specificity in the virus-host interaction. Infection promotion was primarily mediated via the ability of miR-181 to significantly enhance henipavirus-induced membrane fusion. Cell signalling receptors of ephrins, namely EphA5 and EphA7, were identified as novel negative regulators of henipavirus fusion. The expression of these receptors, as well as EphB4, were suppressed by miR-181 overexpression, suggesting that simultaneous inhibition of several Ephs by the miRNA contributes to enhanced infection and fusion. Immune-responsive miR-181 levels was also up-regulated in the biofluids of ferrets and horses infected with Hendra virus, suggesting that the host innate immune response may promote henipavirus spread and exacerbate disease severity. This study is the first genome-wide screen of miRNAs influencing infection by a clinically significant mononegavirus and nominates select miRNAs as targets for future anti-viral therapy development.\\n\",\n          \"A number of different genetics-based vector control methods have been proposed. Two approaches currently under development in Aedes aegypti mosquitoes are the two-locus engineered underdominance and killer-rescue gene drive systems. Each of these is theoretically capable of increasing in frequency within a population, thus spreading associated desirable genetic traits. Thus they have gained attention for their potential to aid in the fight against various mosquito-vectored diseases. In the case of engineered underdominance, introduced transgenes are theoretically capable of persisting indefinitely (i.e. it is self-sustaining) whilst in the killer-rescue system the rescue component should initially increase in frequency (while the lethal component (killer) is common) before eventually declining (when the killer is rare) and being eliminated (i.e. it is temporally self-limiting). The population genetics of both systems have been explored using discrete generation mathematical models. The effects of various ecological factors on these two systems have also been considered using alternative modelling methodologies. Here we formulate and analyse new mathematical models combining the population dynamics and population genetics of these two classes of gene drive that incorporate ecological factors not previously studied and are simple enough to allow the effects of each to be disentangled. In particular, we focus on the potential effects that may be obtained as a result of differing ecological factors such as strengths of larval competition; numbers of breeding sites; and the relative fitness of transgenic mosquitoes compared with their wild-type counterparts. We also extend our models to consider population dynamics in two demes in order to explore the effects of dispersal between neighbouring populations on the outcome of UD and KR gene drive systems.\\n\",\n          \"Exogenous Interleukin-7 (IL-7), in supplement to antiretroviral therapy, leads to a substantial increase of all CD4+ T cell subsets in HIV-1 infected patients. However, the quantitative contribution of the several potential mechanisms of action of IL-7 is unknown. We have performed a mathematical analysis of repeated measurements of total and naive CD4+ T cells and their Ki67 expression from HIV-1 infected patients involved in three phase I/II studies (N\\u200a=\\u200a53 patients). We show that, besides a transient increase of peripheral proliferation, IL-7 exerts additional effects that play a significant role in CD4+ T cell dynamics up to 52 weeks. A decrease of the loss rate of the total CD4+ T cell is the most probable explanation. If this effect could be maintained during repeated administration of IL-7, our simulation study shows that such a strategy may allow maintaining CD4+ T cell counts above 500 cells/\\u00b5L with 4 cycles or fewer over a period of two years. This in-depth analysis of clinical data revealed the potential for IL-7 to achieve sustained CD4+ T cell restoration with limited IL-7 exposure in HIV-1 infected patients with immune failure despite antiretroviral therapy.\\n\"\n        ],\n        \"semantic_type\": \"\",\n        \"description\": \"\"\n      }\n    }\n  ]\n}"
            }
          },
          "metadata": {},
          "execution_count": 27
        }
      ]
    },
    {
      "cell_type": "code",
      "source": [
        "df=bart_df.copy()"
      ],
      "metadata": {
        "id": "ZU6fHDrzH0so"
      },
      "execution_count": null,
      "outputs": []
    },
    {
      "cell_type": "code",
      "source": [
        "#Summary Ranking API\n",
        "df['Message']=\"Decide which of the following summary is more consistent with the article. Note that consistency means all information in the summary is supported by the article.\\nArticle: \"+df['abstract']+\"\\nSummary A: \"+df['plain language summary']+\"\\nSummary B: \"+df['generated_summary']+\"\\nExplain your reasoning step by step then answer (A or B) the question: \""
      ],
      "metadata": {
        "id": "Zibt7ELKH0so"
      },
      "execution_count": null,
      "outputs": []
    },
    {
      "cell_type": "code",
      "source": [
        "#API Key\n",
        "client = OpenAI(api_key=\"PASTE YOUR API KEY HERE\")"
      ],
      "metadata": {
        "id": "3p4aVZrvH0so"
      },
      "execution_count": null,
      "outputs": []
    },
    {
      "cell_type": "code",
      "source": [
        "#API Response Generation\n",
        "def get_response(message):\n",
        "    stream = client.chat.completions.create(\n",
        "        model=\"gpt-4o-mini\",\n",
        "        messages=[{\"role\": \"user\", \"content\": message}],\n",
        "        stream=True,\n",
        "    )\n",
        "    response_content = \"\"\n",
        "    for chunk in stream:\n",
        "        if chunk.choices[0].delta.content is not None:\n",
        "            response_content += chunk.choices[0].delta.content\n",
        "    return response_content"
      ],
      "metadata": {
        "id": "aOTdm4VDH0sp"
      },
      "execution_count": null,
      "outputs": []
    },
    {
      "cell_type": "code",
      "source": [
        "df[\"Response\"]=df[\"Message\"].apply(get_response)"
      ],
      "metadata": {
        "id": "wPGTb8JMH0sp"
      },
      "execution_count": null,
      "outputs": []
    },
    {
      "cell_type": "code",
      "source": [
        "df.to_csv('/content/drive/MyDrive/DISSERTATION/Results/Factual Consistency/bart_v2_summaryRanking.csv', index=False)"
      ],
      "metadata": {
        "id": "kLCCycd3H0sp"
      },
      "execution_count": null,
      "outputs": []
    },
    {
      "cell_type": "markdown",
      "source": [
        "### Consistency Rating"
      ],
      "metadata": {
        "id": "PWbGc7jyoj1U"
      }
    },
    {
      "cell_type": "code",
      "source": [
        "df=bart_df.copy()"
      ],
      "metadata": {
        "id": "sGxO1p1hovyf"
      },
      "execution_count": null,
      "outputs": []
    },
    {
      "cell_type": "code",
      "source": [
        "#Consistency Rating Prompt\n",
        "df['Message']=\"Score the following summary given the corresponding article with respect to consistency from 1 to 10. Note that consistency measures how much information included in the summary is present in the source article. 10 points indicate the summary contains only statements that are entailed by the source document.\\nSummary: \" + df[\"generated_summary\"] + \"\\nSource Article: \" + df[\"abstract\"] + \"\\nMarks: \""
      ],
      "metadata": {
        "id": "lAsd4Ymaovyo"
      },
      "execution_count": null,
      "outputs": []
    },
    {
      "cell_type": "code",
      "source": [
        "print(df['Message'][0])"
      ],
      "metadata": {
        "colab": {
          "base_uri": "https://localhost:8080/"
        },
        "id": "-EwE1rzypo_t",
        "outputId": "120c02b2-872b-44c7-d016-495d0e048466"
      },
      "execution_count": null,
      "outputs": [
        {
          "output_type": "stream",
          "name": "stdout",
          "text": [
            "Score the following summary given the corresponding article with respect to consistency from 1 to 10. Note that consistency measures how much information included in the summary is present in the source article. 10 points indicate the summary contains only statements that are entailed by the source document.\n",
            "Summary: Aberrant CpG methylation is a universal epigenetic trait in cancer cell genomes. However, human cancer samples from cell lines preclude the investigation of epigenetic changes occurring during early tumour development. Here, we present a list of 13,000 recurring differentially methylated regions (DMRs) characterizing the intestinal adenoma mouse. Polycomb Repressive Complex (PRC) targets strongly enriched hypermethylated DMRs, PRC2 components of DNA methyltransferases-regulated adenomas. We demonstrate that the DMR signature arises from de novo adenomatous cells and expansion of the pre-existing pattern of intestinal stem cells and undifferentiated crypt cells. We found that epigenetic silencing of tumour suppressors, which occurs frequently in colon cancer, is rare in human colon cancer. Our data provide a global panel of epigenetically modified genes in intestinal tumours.\n",
            "Source Article: Aberrant CpG methylation is a universal epigenetic trait of cancer cell genomes. However, human cancer samples or cell lines preclude the investigation of epigenetic changes occurring early during tumour development. Here, we have used MeDIP-seq to analyse the DNA methylome of APCMin adenoma as a model for intestinal cancer initiation, and we present a list of more than 13,000 recurring differentially methylated regions (DMRs) characterizing intestinal adenoma of the mouse. We show that Polycomb Repressive Complex (PRC) targets are strongly enriched among hypermethylated DMRs, and several PRC2 components and DNA methyltransferases were up-regulated in adenoma. We further demonstrate by bisulfite pyrosequencing of purified cell populations that the DMR signature arises de novo in adenoma cells rather than by expansion of a pre-existing pattern in intestinal stem cells or undifferentiated crypt cells. We found that epigenetic silencing of tumour suppressors, which occurs frequently in colon cancer, was rare in adenoma. Quite strikingly, we identified a core set of DMRs, which is conserved between mouse adenoma and human colon cancer, thus possibly revealing a global panel of epigenetically modified genes for intestinal tumours. Our data allow a distinction between early conserved epigenetic alterations occurring in intestinal adenoma and late stochastic events promoting colon cancer progression, and may facilitate the selection of more specific clinical epigenetic biomarkers.\n",
            "\n",
            "Marks: \n"
          ]
        }
      ]
    },
    {
      "cell_type": "code",
      "source": [
        "#API Key\n",
        "client = OpenAI(api_key=\"PASTE YOUR API KEY HERE\")"
      ],
      "metadata": {
        "id": "YYz4osxdovyo"
      },
      "execution_count": null,
      "outputs": []
    },
    {
      "cell_type": "code",
      "source": [
        "#API Response Generation\n",
        "def get_response(message):\n",
        "    stream = client.chat.completions.create(\n",
        "        model=\"gpt-4o-mini\",\n",
        "        messages=[{\"role\": \"user\", \"content\": message}],\n",
        "        stream=True,\n",
        "    )\n",
        "    response_content = \"\"\n",
        "    for chunk in stream:\n",
        "        if chunk.choices[0].delta.content is not None:\n",
        "            response_content += chunk.choices[0].delta.content\n",
        "    return response_content"
      ],
      "metadata": {
        "id": "l6gqFqgxovyo"
      },
      "execution_count": null,
      "outputs": []
    },
    {
      "cell_type": "code",
      "source": [
        "df[\"Response\"]=df[\"Message\"].apply(get_response)"
      ],
      "metadata": {
        "id": "rODf8dxKovyp"
      },
      "execution_count": null,
      "outputs": []
    },
    {
      "cell_type": "code",
      "source": [
        "df.to_csv('/content/drive/MyDrive/DISSERTATION/Results/Factual Consistency/bart_v2_consistencyRating2.csv', index=False)"
      ],
      "metadata": {
        "id": "yufNFTb-ovyp"
      },
      "execution_count": null,
      "outputs": []
    }
  ]
}